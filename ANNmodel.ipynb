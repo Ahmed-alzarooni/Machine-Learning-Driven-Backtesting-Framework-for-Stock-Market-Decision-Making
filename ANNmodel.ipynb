{
  "nbformat": 4,
  "nbformat_minor": 0,
  "metadata": {
    "colab": {
      "provenance": []
    },
    "kernelspec": {
      "name": "python3",
      "display_name": "Python 3"
    },
    "language_info": {
      "name": "python"
    }
  },
  "cells": [
    {
      "cell_type": "code",
      "source": [
        "pip install tensorflow"
      ],
      "metadata": {
        "colab": {
          "base_uri": "https://localhost:8080/"
        },
        "id": "8XmpWgxHPdxM",
        "outputId": "94793766-a1c9-458c-89c6-2d99d62bd1a9"
      },
      "execution_count": 10,
      "outputs": [
        {
          "output_type": "stream",
          "name": "stdout",
          "text": [
            "Requirement already satisfied: tensorflow in /usr/local/lib/python3.10/dist-packages (2.17.1)\n",
            "Requirement already satisfied: absl-py>=1.0.0 in /usr/local/lib/python3.10/dist-packages (from tensorflow) (1.4.0)\n",
            "Requirement already satisfied: astunparse>=1.6.0 in /usr/local/lib/python3.10/dist-packages (from tensorflow) (1.6.3)\n",
            "Requirement already satisfied: flatbuffers>=24.3.25 in /usr/local/lib/python3.10/dist-packages (from tensorflow) (24.3.25)\n",
            "Requirement already satisfied: gast!=0.5.0,!=0.5.1,!=0.5.2,>=0.2.1 in /usr/local/lib/python3.10/dist-packages (from tensorflow) (0.6.0)\n",
            "Requirement already satisfied: google-pasta>=0.1.1 in /usr/local/lib/python3.10/dist-packages (from tensorflow) (0.2.0)\n",
            "Requirement already satisfied: h5py>=3.10.0 in /usr/local/lib/python3.10/dist-packages (from tensorflow) (3.12.1)\n",
            "Requirement already satisfied: libclang>=13.0.0 in /usr/local/lib/python3.10/dist-packages (from tensorflow) (18.1.1)\n",
            "Requirement already satisfied: ml-dtypes<0.5.0,>=0.3.1 in /usr/local/lib/python3.10/dist-packages (from tensorflow) (0.4.1)\n",
            "Requirement already satisfied: opt-einsum>=2.3.2 in /usr/local/lib/python3.10/dist-packages (from tensorflow) (3.4.0)\n",
            "Requirement already satisfied: packaging in /usr/local/lib/python3.10/dist-packages (from tensorflow) (24.2)\n",
            "Requirement already satisfied: protobuf!=4.21.0,!=4.21.1,!=4.21.2,!=4.21.3,!=4.21.4,!=4.21.5,<5.0.0dev,>=3.20.3 in /usr/local/lib/python3.10/dist-packages (from tensorflow) (4.25.5)\n",
            "Requirement already satisfied: requests<3,>=2.21.0 in /usr/local/lib/python3.10/dist-packages (from tensorflow) (2.32.3)\n",
            "Requirement already satisfied: setuptools in /usr/local/lib/python3.10/dist-packages (from tensorflow) (75.1.0)\n",
            "Requirement already satisfied: six>=1.12.0 in /usr/local/lib/python3.10/dist-packages (from tensorflow) (1.16.0)\n",
            "Requirement already satisfied: termcolor>=1.1.0 in /usr/local/lib/python3.10/dist-packages (from tensorflow) (2.5.0)\n",
            "Requirement already satisfied: typing-extensions>=3.6.6 in /usr/local/lib/python3.10/dist-packages (from tensorflow) (4.12.2)\n",
            "Requirement already satisfied: wrapt>=1.11.0 in /usr/local/lib/python3.10/dist-packages (from tensorflow) (1.16.0)\n",
            "Requirement already satisfied: grpcio<2.0,>=1.24.3 in /usr/local/lib/python3.10/dist-packages (from tensorflow) (1.67.1)\n",
            "Requirement already satisfied: tensorboard<2.18,>=2.17 in /usr/local/lib/python3.10/dist-packages (from tensorflow) (2.17.1)\n",
            "Requirement already satisfied: keras>=3.2.0 in /usr/local/lib/python3.10/dist-packages (from tensorflow) (3.5.0)\n",
            "Requirement already satisfied: tensorflow-io-gcs-filesystem>=0.23.1 in /usr/local/lib/python3.10/dist-packages (from tensorflow) (0.37.1)\n",
            "Requirement already satisfied: numpy<2.0.0,>=1.23.5 in /usr/local/lib/python3.10/dist-packages (from tensorflow) (1.26.4)\n",
            "Requirement already satisfied: wheel<1.0,>=0.23.0 in /usr/local/lib/python3.10/dist-packages (from astunparse>=1.6.0->tensorflow) (0.45.0)\n",
            "Requirement already satisfied: rich in /usr/local/lib/python3.10/dist-packages (from keras>=3.2.0->tensorflow) (13.9.4)\n",
            "Requirement already satisfied: namex in /usr/local/lib/python3.10/dist-packages (from keras>=3.2.0->tensorflow) (0.0.8)\n",
            "Requirement already satisfied: optree in /usr/local/lib/python3.10/dist-packages (from keras>=3.2.0->tensorflow) (0.13.1)\n",
            "Requirement already satisfied: charset-normalizer<4,>=2 in /usr/local/lib/python3.10/dist-packages (from requests<3,>=2.21.0->tensorflow) (3.4.0)\n",
            "Requirement already satisfied: idna<4,>=2.5 in /usr/local/lib/python3.10/dist-packages (from requests<3,>=2.21.0->tensorflow) (3.10)\n",
            "Requirement already satisfied: urllib3<3,>=1.21.1 in /usr/local/lib/python3.10/dist-packages (from requests<3,>=2.21.0->tensorflow) (2.2.3)\n",
            "Requirement already satisfied: certifi>=2017.4.17 in /usr/local/lib/python3.10/dist-packages (from requests<3,>=2.21.0->tensorflow) (2024.8.30)\n",
            "Requirement already satisfied: markdown>=2.6.8 in /usr/local/lib/python3.10/dist-packages (from tensorboard<2.18,>=2.17->tensorflow) (3.7)\n",
            "Requirement already satisfied: tensorboard-data-server<0.8.0,>=0.7.0 in /usr/local/lib/python3.10/dist-packages (from tensorboard<2.18,>=2.17->tensorflow) (0.7.2)\n",
            "Requirement already satisfied: werkzeug>=1.0.1 in /usr/local/lib/python3.10/dist-packages (from tensorboard<2.18,>=2.17->tensorflow) (3.1.3)\n",
            "Requirement already satisfied: MarkupSafe>=2.1.1 in /usr/local/lib/python3.10/dist-packages (from werkzeug>=1.0.1->tensorboard<2.18,>=2.17->tensorflow) (3.0.2)\n",
            "Requirement already satisfied: markdown-it-py>=2.2.0 in /usr/local/lib/python3.10/dist-packages (from rich->keras>=3.2.0->tensorflow) (3.0.0)\n",
            "Requirement already satisfied: pygments<3.0.0,>=2.13.0 in /usr/local/lib/python3.10/dist-packages (from rich->keras>=3.2.0->tensorflow) (2.18.0)\n",
            "Requirement already satisfied: mdurl~=0.1 in /usr/local/lib/python3.10/dist-packages (from markdown-it-py>=2.2.0->rich->keras>=3.2.0->tensorflow) (0.1.2)\n"
          ]
        }
      ]
    },
    {
      "cell_type": "code",
      "source": [
        "import pandas as pd\n",
        "import numpy as np\n",
        "from sklearn.model_selection import train_test_split\n",
        "from sklearn.preprocessing import StandardScaler, OneHotEncoder\n",
        "from sklearn.metrics import accuracy_score, classification_report\n",
        "import seaborn as sns\n",
        "from matplotlib.pyplot import figure\n",
        "from statsmodels.tsa.stattools import adfuller\n",
        "import matplotlib.pyplot as plt\n",
        "import tensorflow as tf\n",
        "from tensorflow.keras.models import Sequential\n",
        "from tensorflow.keras.layers import Dense, Dropout\n",
        "from tensorflow.keras.optimizers import Adam"
      ],
      "metadata": {
        "id": "bSdDxWvH-GI_"
      },
      "execution_count": 11,
      "outputs": []
    },
    {
      "cell_type": "code",
      "source": [
        "df = pd.read_csv('aapl_data.csv')"
      ],
      "metadata": {
        "id": "xWn16gJl6xBd"
      },
      "execution_count": 2,
      "outputs": []
    },
    {
      "cell_type": "code",
      "source": [
        "# Preprocessing\n",
        "df['time'] = pd.to_datetime(df['time'], errors='coerce').dt.date\n",
        "df.set_index('time', inplace=True)\n",
        "# Sort the DataFrame by date\n",
        "df = df.sort_index(ascending=True)\n",
        "df = df[df['volume'] != 0]  # Remove rows where volume is 0"
      ],
      "metadata": {
        "id": "HPjHA4jC6xxq"
      },
      "execution_count": 3,
      "outputs": []
    },
    {
      "cell_type": "code",
      "source": [
        "# Calculate future returns and signals\n",
        "df['future_returns'] = df['close'].pct_change().shift(-1)\n",
        "signal = []\n",
        "for i in range(len(df)):\n",
        "    if df['future_returns'].iloc[i] > 0:\n",
        "        signal.append(1)\n",
        "    elif df['future_returns'].iloc[i] < 0:\n",
        "        signal.append(2)\n",
        "    else:\n",
        "        signal.append(3)\n",
        "\n",
        "df['signal'] = signal\n",
        "\n",
        "# Calculate RSI\n",
        "def calculate_rsi(data, window=14):\n",
        "    delta = data.diff()\n",
        "    gain = (delta.where(delta > 0, 0)).rolling(window=window).mean()\n",
        "    loss = (-delta.where(delta < 0, 0)).rolling(window=window).mean()\n",
        "    rs = gain / loss\n",
        "    rsi = 100 - (100 / (1 + rs))\n",
        "    return rsi\n",
        "\n",
        "df['rsi'] = calculate_rsi(df['close'], 14)\n",
        "\n",
        "# Calculate ADX\n",
        "def calculate_adx(df, period=50):\n",
        "    high = df['high']\n",
        "    low = df['low']\n",
        "    close = df['close']\n",
        "\n",
        "    plus_dm = high.diff()\n",
        "    minus_dm = low.diff()\n",
        "\n",
        "    plus_dm[plus_dm < 0] = 0\n",
        "    minus_dm[minus_dm > 0] = 0\n",
        "\n",
        "    tr1 = pd.DataFrame(high - low)\n",
        "    tr2 = pd.DataFrame(abs(high - close.shift(1)))\n",
        "    tr3 = pd.DataFrame(abs(low - close.shift(1)))\n",
        "    true_range = pd.concat([tr1, tr2, tr3], axis=1).max(axis=1)\n",
        "\n",
        "    atr = true_range.rolling(window=period).mean()\n",
        "\n",
        "    plus_di = 100 * (plus_dm.rolling(window=period).mean() / atr)\n",
        "    minus_di = 100 * (minus_dm.abs().rolling(window=period).mean() / atr)\n",
        "\n",
        "    dx = (abs(plus_di - minus_di) / (plus_di + minus_di)) * 100\n",
        "    adx = dx.rolling(window=period).mean()\n",
        "    return adx\n",
        "\n",
        "df['adx'] = calculate_adx(df, 50)\n",
        "\n",
        "# Calculate NATR\n",
        "def calculate_natr(df, period=50):\n",
        "    tr1 = df['high'] - df['low']\n",
        "    tr2 = abs(df['high'] - df['close'].shift(1))\n",
        "    tr3 = abs(df['low'] - df['close'].shift(1))\n",
        "    true_range = pd.concat([tr1, tr2, tr3], axis=1).max(axis=1)\n",
        "    atr = true_range.rolling(window=period).mean()\n",
        "    natr = (atr / df['close']) * 100\n",
        "    return natr\n",
        "\n",
        "df['NATR'] = calculate_natr(df, 50)\n",
        "\n",
        "# Calculate SMA\n",
        "df['sma'] = df['close'].rolling(window=30).mean()\n",
        "\n",
        "# Calculate correlation\n",
        "df['corr'] = df['close'].rolling(window=int(6.5 * 4)).corr(df['sma'])\n",
        "\n",
        "# Other features\n",
        "df['Open-Close'] = (df['open'] - df['close']).shift(-1)\n",
        "df['Close-High'] = (df['close'] - df['high']).shift(-1)\n",
        "df['Close-Low'] = (df['close'] - df['low']).shift(-1)\n",
        "\n",
        "# Drop NaN values\n",
        "df.dropna(inplace=True)\n",
        "\n",
        "# Define target and features\n",
        "y = df[['signal']].copy()\n",
        "X = df[['rsi', 'adx', 'corr', 'sma', 'NATR', 'volume', 'Open-Close', 'Close-Low', 'Close-High']].copy()"
      ],
      "metadata": {
        "id": "8jprsjGZ7LjE"
      },
      "execution_count": 6,
      "outputs": []
    },
    {
      "cell_type": "code",
      "source": [
        "# Split data into training and testing sets\n",
        "split_percentage = 0.7\n",
        "split = int(split_percentage * len(df))\n",
        "\n",
        "X_train = X[:split]\n",
        "y_train = y[:split]\n",
        "X_test = X[split:]\n",
        "y_test = y[split:]\n",
        "\n",
        "# Standardize features\n",
        "scaler = StandardScaler()\n",
        "X_train = scaler.fit_transform(X_train)\n",
        "X_test = scaler.transform(X_test)"
      ],
      "metadata": {
        "id": "-ntuEWTK7QLv"
      },
      "execution_count": 8,
      "outputs": []
    },
    {
      "cell_type": "code",
      "source": [
        "# One-hot encode the target variable\n",
        "encoder = OneHotEncoder(sparse_output=False)\n",
        "y_train_encoded = encoder.fit_transform(y_train)\n",
        "y_test_encoded = encoder.transform(y_test)\n",
        "\n",
        "# Build the ANN model\n",
        "model = Sequential([\n",
        "    Dense(64, input_dim=X_train.shape[1], activation='relu'),\n",
        "    Dropout(0.2),\n",
        "    Dense(32, activation='relu'),\n",
        "    Dropout(0.2),\n",
        "    Dense(16, activation='relu'),\n",
        "    Dense(y_train_encoded.shape[1], activation='softmax')\n",
        "])"
      ],
      "metadata": {
        "colab": {
          "base_uri": "https://localhost:8080/"
        },
        "id": "LI9J-6as7UGW",
        "outputId": "3c97fd6f-aac9-4d97-c63c-22698dd062fb"
      },
      "execution_count": 13,
      "outputs": [
        {
          "output_type": "stream",
          "name": "stderr",
          "text": [
            "/usr/local/lib/python3.10/dist-packages/keras/src/layers/core/dense.py:87: UserWarning: Do not pass an `input_shape`/`input_dim` argument to a layer. When using Sequential models, prefer using an `Input(shape)` object as the first layer in the model instead.\n",
            "  super().__init__(activity_regularizer=activity_regularizer, **kwargs)\n"
          ]
        }
      ]
    },
    {
      "cell_type": "code",
      "source": [
        "# Compile the model\n",
        "model.compile(optimizer=Adam(learning_rate=0.001),\n",
        "              loss='categorical_crossentropy',\n",
        "              metrics=['accuracy'])\n",
        "\n",
        "# Train the model\n",
        "history = model.fit(X_train, y_train_encoded,\n",
        "                    epochs=50,\n",
        "                    batch_size=32,\n",
        "                    validation_split=0.2,\n",
        "                    verbose=1)"
      ],
      "metadata": {
        "colab": {
          "base_uri": "https://localhost:8080/"
        },
        "id": "Hib7vRxt7T-k",
        "outputId": "7932d0d8-7f5e-41dc-fda3-185d2df904aa"
      },
      "execution_count": 14,
      "outputs": [
        {
          "output_type": "stream",
          "name": "stdout",
          "text": [
            "Epoch 1/50\n",
            "\u001b[1m75/75\u001b[0m \u001b[32m━━━━━━━━━━━━━━━━━━━━\u001b[0m\u001b[37m\u001b[0m \u001b[1m6s\u001b[0m 15ms/step - accuracy: 0.5368 - loss: 0.9728 - val_accuracy: 0.7863 - val_loss: 0.4971\n",
            "Epoch 2/50\n",
            "\u001b[1m75/75\u001b[0m \u001b[32m━━━━━━━━━━━━━━━━━━━━\u001b[0m\u001b[37m\u001b[0m \u001b[1m0s\u001b[0m 6ms/step - accuracy: 0.7747 - loss: 0.5550 - val_accuracy: 0.8030 - val_loss: 0.4783\n",
            "Epoch 3/50\n",
            "\u001b[1m75/75\u001b[0m \u001b[32m━━━━━━━━━━━━━━━━━━━━\u001b[0m\u001b[37m\u001b[0m \u001b[1m1s\u001b[0m 9ms/step - accuracy: 0.7895 - loss: 0.4904 - val_accuracy: 0.8097 - val_loss: 0.4784\n",
            "Epoch 4/50\n",
            "\u001b[1m75/75\u001b[0m \u001b[32m━━━━━━━━━━━━━━━━━━━━\u001b[0m\u001b[37m\u001b[0m \u001b[1m1s\u001b[0m 11ms/step - accuracy: 0.8124 - loss: 0.4461 - val_accuracy: 0.8114 - val_loss: 0.4593\n",
            "Epoch 5/50\n",
            "\u001b[1m75/75\u001b[0m \u001b[32m━━━━━━━━━━━━━━━━━━━━\u001b[0m\u001b[37m\u001b[0m \u001b[1m1s\u001b[0m 15ms/step - accuracy: 0.8012 - loss: 0.4485 - val_accuracy: 0.8097 - val_loss: 0.4521\n",
            "Epoch 6/50\n",
            "\u001b[1m75/75\u001b[0m \u001b[32m━━━━━━━━━━━━━━━━━━━━\u001b[0m\u001b[37m\u001b[0m \u001b[1m1s\u001b[0m 11ms/step - accuracy: 0.8221 - loss: 0.4094 - val_accuracy: 0.8030 - val_loss: 0.4584\n",
            "Epoch 7/50\n",
            "\u001b[1m75/75\u001b[0m \u001b[32m━━━━━━━━━━━━━━━━━━━━\u001b[0m\u001b[37m\u001b[0m \u001b[1m1s\u001b[0m 7ms/step - accuracy: 0.8128 - loss: 0.4339 - val_accuracy: 0.8030 - val_loss: 0.4474\n",
            "Epoch 8/50\n",
            "\u001b[1m75/75\u001b[0m \u001b[32m━━━━━━━━━━━━━━━━━━━━\u001b[0m\u001b[37m\u001b[0m \u001b[1m1s\u001b[0m 5ms/step - accuracy: 0.8309 - loss: 0.4075 - val_accuracy: 0.8030 - val_loss: 0.4423\n",
            "Epoch 9/50\n",
            "\u001b[1m75/75\u001b[0m \u001b[32m━━━━━━━━━━━━━━━━━━━━\u001b[0m\u001b[37m\u001b[0m \u001b[1m1s\u001b[0m 4ms/step - accuracy: 0.8230 - loss: 0.4088 - val_accuracy: 0.8047 - val_loss: 0.4387\n",
            "Epoch 10/50\n",
            "\u001b[1m75/75\u001b[0m \u001b[32m━━━━━━━━━━━━━━━━━━━━\u001b[0m\u001b[37m\u001b[0m \u001b[1m0s\u001b[0m 4ms/step - accuracy: 0.8359 - loss: 0.3980 - val_accuracy: 0.7796 - val_loss: 0.4573\n",
            "Epoch 11/50\n",
            "\u001b[1m75/75\u001b[0m \u001b[32m━━━━━━━━━━━━━━━━━━━━\u001b[0m\u001b[37m\u001b[0m \u001b[1m0s\u001b[0m 3ms/step - accuracy: 0.8242 - loss: 0.3973 - val_accuracy: 0.8013 - val_loss: 0.4420\n",
            "Epoch 12/50\n",
            "\u001b[1m75/75\u001b[0m \u001b[32m━━━━━━━━━━━━━━━━━━━━\u001b[0m\u001b[37m\u001b[0m \u001b[1m0s\u001b[0m 3ms/step - accuracy: 0.8344 - loss: 0.4056 - val_accuracy: 0.7963 - val_loss: 0.4418\n",
            "Epoch 13/50\n",
            "\u001b[1m75/75\u001b[0m \u001b[32m━━━━━━━━━━━━━━━━━━━━\u001b[0m\u001b[37m\u001b[0m \u001b[1m0s\u001b[0m 3ms/step - accuracy: 0.8332 - loss: 0.3959 - val_accuracy: 0.7896 - val_loss: 0.4483\n",
            "Epoch 14/50\n",
            "\u001b[1m75/75\u001b[0m \u001b[32m━━━━━━━━━━━━━━━━━━━━\u001b[0m\u001b[37m\u001b[0m \u001b[1m0s\u001b[0m 3ms/step - accuracy: 0.8188 - loss: 0.4097 - val_accuracy: 0.8164 - val_loss: 0.4239\n",
            "Epoch 15/50\n",
            "\u001b[1m75/75\u001b[0m \u001b[32m━━━━━━━━━━━━━━━━━━━━\u001b[0m\u001b[37m\u001b[0m \u001b[1m0s\u001b[0m 3ms/step - accuracy: 0.8333 - loss: 0.4087 - val_accuracy: 0.7963 - val_loss: 0.4388\n",
            "Epoch 16/50\n",
            "\u001b[1m75/75\u001b[0m \u001b[32m━━━━━━━━━━━━━━━━━━━━\u001b[0m\u001b[37m\u001b[0m \u001b[1m0s\u001b[0m 3ms/step - accuracy: 0.8411 - loss: 0.3719 - val_accuracy: 0.7947 - val_loss: 0.4417\n",
            "Epoch 17/50\n",
            "\u001b[1m75/75\u001b[0m \u001b[32m━━━━━━━━━━━━━━━━━━━━\u001b[0m\u001b[37m\u001b[0m \u001b[1m0s\u001b[0m 3ms/step - accuracy: 0.8295 - loss: 0.3919 - val_accuracy: 0.7947 - val_loss: 0.4373\n",
            "Epoch 18/50\n",
            "\u001b[1m75/75\u001b[0m \u001b[32m━━━━━━━━━━━━━━━━━━━━\u001b[0m\u001b[37m\u001b[0m \u001b[1m0s\u001b[0m 3ms/step - accuracy: 0.8281 - loss: 0.4004 - val_accuracy: 0.7997 - val_loss: 0.4341\n",
            "Epoch 19/50\n",
            "\u001b[1m75/75\u001b[0m \u001b[32m━━━━━━━━━━━━━━━━━━━━\u001b[0m\u001b[37m\u001b[0m \u001b[1m0s\u001b[0m 3ms/step - accuracy: 0.8339 - loss: 0.3848 - val_accuracy: 0.8164 - val_loss: 0.4239\n",
            "Epoch 20/50\n",
            "\u001b[1m75/75\u001b[0m \u001b[32m━━━━━━━━━━━━━━━━━━━━\u001b[0m\u001b[37m\u001b[0m \u001b[1m0s\u001b[0m 4ms/step - accuracy: 0.8247 - loss: 0.3984 - val_accuracy: 0.8180 - val_loss: 0.4257\n",
            "Epoch 21/50\n",
            "\u001b[1m75/75\u001b[0m \u001b[32m━━━━━━━━━━━━━━━━━━━━\u001b[0m\u001b[37m\u001b[0m \u001b[1m0s\u001b[0m 3ms/step - accuracy: 0.8320 - loss: 0.3873 - val_accuracy: 0.7997 - val_loss: 0.4406\n",
            "Epoch 22/50\n",
            "\u001b[1m75/75\u001b[0m \u001b[32m━━━━━━━━━━━━━━━━━━━━\u001b[0m\u001b[37m\u001b[0m \u001b[1m0s\u001b[0m 3ms/step - accuracy: 0.8431 - loss: 0.3948 - val_accuracy: 0.8114 - val_loss: 0.4314\n",
            "Epoch 23/50\n",
            "\u001b[1m75/75\u001b[0m \u001b[32m━━━━━━━━━━━━━━━━━━━━\u001b[0m\u001b[37m\u001b[0m \u001b[1m0s\u001b[0m 3ms/step - accuracy: 0.8348 - loss: 0.3806 - val_accuracy: 0.8164 - val_loss: 0.4245\n",
            "Epoch 24/50\n",
            "\u001b[1m75/75\u001b[0m \u001b[32m━━━━━━━━━━━━━━━━━━━━\u001b[0m\u001b[37m\u001b[0m \u001b[1m0s\u001b[0m 3ms/step - accuracy: 0.8297 - loss: 0.4098 - val_accuracy: 0.8147 - val_loss: 0.4283\n",
            "Epoch 25/50\n",
            "\u001b[1m75/75\u001b[0m \u001b[32m━━━━━━━━━━━━━━━━━━━━\u001b[0m\u001b[37m\u001b[0m \u001b[1m0s\u001b[0m 3ms/step - accuracy: 0.8320 - loss: 0.3959 - val_accuracy: 0.8097 - val_loss: 0.4341\n",
            "Epoch 26/50\n",
            "\u001b[1m75/75\u001b[0m \u001b[32m━━━━━━━━━━━━━━━━━━━━\u001b[0m\u001b[37m\u001b[0m \u001b[1m0s\u001b[0m 2ms/step - accuracy: 0.8177 - loss: 0.4040 - val_accuracy: 0.8197 - val_loss: 0.4192\n",
            "Epoch 27/50\n",
            "\u001b[1m75/75\u001b[0m \u001b[32m━━━━━━━━━━━━━━━━━━━━\u001b[0m\u001b[37m\u001b[0m \u001b[1m0s\u001b[0m 2ms/step - accuracy: 0.8429 - loss: 0.3730 - val_accuracy: 0.8214 - val_loss: 0.4185\n",
            "Epoch 28/50\n",
            "\u001b[1m75/75\u001b[0m \u001b[32m━━━━━━━━━━━━━━━━━━━━\u001b[0m\u001b[37m\u001b[0m \u001b[1m0s\u001b[0m 3ms/step - accuracy: 0.8247 - loss: 0.3989 - val_accuracy: 0.8180 - val_loss: 0.4210\n",
            "Epoch 29/50\n",
            "\u001b[1m75/75\u001b[0m \u001b[32m━━━━━━━━━━━━━━━━━━━━\u001b[0m\u001b[37m\u001b[0m \u001b[1m0s\u001b[0m 3ms/step - accuracy: 0.8349 - loss: 0.3791 - val_accuracy: 0.8164 - val_loss: 0.4204\n",
            "Epoch 30/50\n",
            "\u001b[1m75/75\u001b[0m \u001b[32m━━━━━━━━━━━━━━━━━━━━\u001b[0m\u001b[37m\u001b[0m \u001b[1m0s\u001b[0m 3ms/step - accuracy: 0.8308 - loss: 0.3845 - val_accuracy: 0.8180 - val_loss: 0.4193\n",
            "Epoch 31/50\n",
            "\u001b[1m75/75\u001b[0m \u001b[32m━━━━━━━━━━━━━━━━━━━━\u001b[0m\u001b[37m\u001b[0m \u001b[1m0s\u001b[0m 3ms/step - accuracy: 0.8418 - loss: 0.3738 - val_accuracy: 0.8147 - val_loss: 0.4251\n",
            "Epoch 32/50\n",
            "\u001b[1m75/75\u001b[0m \u001b[32m━━━━━━━━━━━━━━━━━━━━\u001b[0m\u001b[37m\u001b[0m \u001b[1m0s\u001b[0m 4ms/step - accuracy: 0.8351 - loss: 0.3865 - val_accuracy: 0.8147 - val_loss: 0.4233\n",
            "Epoch 33/50\n",
            "\u001b[1m75/75\u001b[0m \u001b[32m━━━━━━━━━━━━━━━━━━━━\u001b[0m\u001b[37m\u001b[0m \u001b[1m0s\u001b[0m 3ms/step - accuracy: 0.8231 - loss: 0.4105 - val_accuracy: 0.8180 - val_loss: 0.4243\n",
            "Epoch 34/50\n",
            "\u001b[1m75/75\u001b[0m \u001b[32m━━━━━━━━━━━━━━━━━━━━\u001b[0m\u001b[37m\u001b[0m \u001b[1m0s\u001b[0m 2ms/step - accuracy: 0.8455 - loss: 0.3671 - val_accuracy: 0.8130 - val_loss: 0.4319\n",
            "Epoch 35/50\n",
            "\u001b[1m75/75\u001b[0m \u001b[32m━━━━━━━━━━━━━━━━━━━━\u001b[0m\u001b[37m\u001b[0m \u001b[1m0s\u001b[0m 3ms/step - accuracy: 0.8443 - loss: 0.3905 - val_accuracy: 0.8164 - val_loss: 0.4231\n",
            "Epoch 36/50\n",
            "\u001b[1m75/75\u001b[0m \u001b[32m━━━━━━━━━━━━━━━━━━━━\u001b[0m\u001b[37m\u001b[0m \u001b[1m0s\u001b[0m 4ms/step - accuracy: 0.8373 - loss: 0.3853 - val_accuracy: 0.8180 - val_loss: 0.4215\n",
            "Epoch 37/50\n",
            "\u001b[1m75/75\u001b[0m \u001b[32m━━━━━━━━━━━━━━━━━━━━\u001b[0m\u001b[37m\u001b[0m \u001b[1m1s\u001b[0m 5ms/step - accuracy: 0.8301 - loss: 0.3873 - val_accuracy: 0.8197 - val_loss: 0.4138\n",
            "Epoch 38/50\n",
            "\u001b[1m75/75\u001b[0m \u001b[32m━━━━━━━━━━━━━━━━━━━━\u001b[0m\u001b[37m\u001b[0m \u001b[1m0s\u001b[0m 5ms/step - accuracy: 0.8377 - loss: 0.3820 - val_accuracy: 0.8230 - val_loss: 0.4166\n",
            "Epoch 39/50\n",
            "\u001b[1m75/75\u001b[0m \u001b[32m━━━━━━━━━━━━━━━━━━━━\u001b[0m\u001b[37m\u001b[0m \u001b[1m1s\u001b[0m 5ms/step - accuracy: 0.8278 - loss: 0.4017 - val_accuracy: 0.8180 - val_loss: 0.4240\n",
            "Epoch 40/50\n",
            "\u001b[1m75/75\u001b[0m \u001b[32m━━━━━━━━━━━━━━━━━━━━\u001b[0m\u001b[37m\u001b[0m \u001b[1m1s\u001b[0m 4ms/step - accuracy: 0.8337 - loss: 0.3868 - val_accuracy: 0.8197 - val_loss: 0.4203\n",
            "Epoch 41/50\n",
            "\u001b[1m75/75\u001b[0m \u001b[32m━━━━━━━━━━━━━━━━━━━━\u001b[0m\u001b[37m\u001b[0m \u001b[1m1s\u001b[0m 3ms/step - accuracy: 0.8223 - loss: 0.4041 - val_accuracy: 0.8214 - val_loss: 0.4170\n",
            "Epoch 42/50\n",
            "\u001b[1m75/75\u001b[0m \u001b[32m━━━━━━━━━━━━━━━━━━━━\u001b[0m\u001b[37m\u001b[0m \u001b[1m0s\u001b[0m 3ms/step - accuracy: 0.8490 - loss: 0.3530 - val_accuracy: 0.8214 - val_loss: 0.4160\n",
            "Epoch 43/50\n",
            "\u001b[1m75/75\u001b[0m \u001b[32m━━━━━━━━━━━━━━━━━━━━\u001b[0m\u001b[37m\u001b[0m \u001b[1m0s\u001b[0m 3ms/step - accuracy: 0.8337 - loss: 0.3795 - val_accuracy: 0.8197 - val_loss: 0.4256\n",
            "Epoch 44/50\n",
            "\u001b[1m75/75\u001b[0m \u001b[32m━━━━━━━━━━━━━━━━━━━━\u001b[0m\u001b[37m\u001b[0m \u001b[1m0s\u001b[0m 3ms/step - accuracy: 0.8411 - loss: 0.3605 - val_accuracy: 0.8214 - val_loss: 0.4204\n",
            "Epoch 45/50\n",
            "\u001b[1m75/75\u001b[0m \u001b[32m━━━━━━━━━━━━━━━━━━━━\u001b[0m\u001b[37m\u001b[0m \u001b[1m0s\u001b[0m 3ms/step - accuracy: 0.8434 - loss: 0.3633 - val_accuracy: 0.8214 - val_loss: 0.4247\n",
            "Epoch 46/50\n",
            "\u001b[1m75/75\u001b[0m \u001b[32m━━━━━━━━━━━━━━━━━━━━\u001b[0m\u001b[37m\u001b[0m \u001b[1m0s\u001b[0m 2ms/step - accuracy: 0.8388 - loss: 0.3678 - val_accuracy: 0.8197 - val_loss: 0.4125\n",
            "Epoch 47/50\n",
            "\u001b[1m75/75\u001b[0m \u001b[32m━━━━━━━━━━━━━━━━━━━━\u001b[0m\u001b[37m\u001b[0m \u001b[1m0s\u001b[0m 2ms/step - accuracy: 0.8489 - loss: 0.3468 - val_accuracy: 0.8130 - val_loss: 0.4374\n",
            "Epoch 48/50\n",
            "\u001b[1m75/75\u001b[0m \u001b[32m━━━━━━━━━━━━━━━━━━━━\u001b[0m\u001b[37m\u001b[0m \u001b[1m0s\u001b[0m 3ms/step - accuracy: 0.8456 - loss: 0.3556 - val_accuracy: 0.8147 - val_loss: 0.4223\n",
            "Epoch 49/50\n",
            "\u001b[1m75/75\u001b[0m \u001b[32m━━━━━━━━━━━━━━━━━━━━\u001b[0m\u001b[37m\u001b[0m \u001b[1m0s\u001b[0m 3ms/step - accuracy: 0.8586 - loss: 0.3489 - val_accuracy: 0.8214 - val_loss: 0.4205\n",
            "Epoch 50/50\n",
            "\u001b[1m75/75\u001b[0m \u001b[32m━━━━━━━━━━━━━━━━━━━━\u001b[0m\u001b[37m\u001b[0m \u001b[1m0s\u001b[0m 4ms/step - accuracy: 0.8290 - loss: 0.3721 - val_accuracy: 0.8214 - val_loss: 0.4135\n"
          ]
        }
      ]
    },
    {
      "cell_type": "code",
      "source": [
        "# Predict on test data\n",
        "y_pred_encoded = model.predict(X_test)\n",
        "y_pred = encoder.inverse_transform(y_pred_encoded)"
      ],
      "metadata": {
        "colab": {
          "base_uri": "https://localhost:8080/"
        },
        "id": "SRISZ5eY-wOr",
        "outputId": "87429f00-ef28-4783-f30a-467cddd89b31"
      },
      "execution_count": 15,
      "outputs": [
        {
          "output_type": "stream",
          "name": "stdout",
          "text": [
            "\u001b[1m41/41\u001b[0m \u001b[32m━━━━━━━━━━━━━━━━━━━━\u001b[0m\u001b[37m\u001b[0m \u001b[1m0s\u001b[0m 4ms/step\n"
          ]
        }
      ]
    },
    {
      "cell_type": "code",
      "source": [
        "# Evaluate the model\n",
        "Accuracy = accuracy_score(y_test, y_pred)\n",
        "print(f\"Accuracy: {Accuracy}\")"
      ],
      "metadata": {
        "colab": {
          "base_uri": "https://localhost:8080/"
        },
        "id": "2vjbXmjf7g1t",
        "outputId": "0f260368-d0e6-40c4-a599-b33a2d9d223c"
      },
      "execution_count": 24,
      "outputs": [
        {
          "output_type": "stream",
          "name": "stdout",
          "text": [
            "Accuracy: 0.7918939984411536\n"
          ]
        }
      ]
    },
    {
      "cell_type": "code",
      "source": [
        "# Classification report\n",
        "classification_report_data = classification_report(y_test, y_pred)\n",
        "print(classification_report_data)"
      ],
      "metadata": {
        "colab": {
          "base_uri": "https://localhost:8080/"
        },
        "id": "kUwVoI8u_40d",
        "outputId": "7433a689-a4dd-4691-a595-d7fea8429b67"
      },
      "execution_count": 17,
      "outputs": [
        {
          "output_type": "stream",
          "name": "stdout",
          "text": [
            "              precision    recall  f1-score   support\n",
            "\n",
            "           1       0.84      0.76      0.80       686\n",
            "           2       0.75      0.84      0.79       594\n",
            "           3       0.00      0.00      0.00         3\n",
            "\n",
            "    accuracy                           0.79      1283\n",
            "   macro avg       0.53      0.53      0.53      1283\n",
            "weighted avg       0.80      0.79      0.79      1283\n",
            "\n"
          ]
        },
        {
          "output_type": "stream",
          "name": "stderr",
          "text": [
            "/usr/local/lib/python3.10/dist-packages/sklearn/metrics/_classification.py:1531: UndefinedMetricWarning: Precision is ill-defined and being set to 0.0 in labels with no predicted samples. Use `zero_division` parameter to control this behavior.\n",
            "  _warn_prf(average, modifier, f\"{metric.capitalize()} is\", len(result))\n",
            "/usr/local/lib/python3.10/dist-packages/sklearn/metrics/_classification.py:1531: UndefinedMetricWarning: Precision is ill-defined and being set to 0.0 in labels with no predicted samples. Use `zero_division` parameter to control this behavior.\n",
            "  _warn_prf(average, modifier, f\"{metric.capitalize()} is\", len(result))\n",
            "/usr/local/lib/python3.10/dist-packages/sklearn/metrics/_classification.py:1531: UndefinedMetricWarning: Precision is ill-defined and being set to 0.0 in labels with no predicted samples. Use `zero_division` parameter to control this behavior.\n",
            "  _warn_prf(average, modifier, f\"{metric.capitalize()} is\", len(result))\n"
          ]
        }
      ]
    },
    {
      "cell_type": "code",
      "source": [
        "# Make a prediction on the last row of X\n",
        "Prediction_encoded = model.predict(X_test)[-1]  # Predict using the ANN model\n",
        "Prediction = encoder.inverse_transform([Prediction_encoded])  # Decode the one-hot prediction to original label\n",
        "\n",
        "# Translate the prediction to actionable signals\n",
        "if Prediction[0] == 1:\n",
        "    print('Buy')\n",
        "elif Prediction[0] == 2:\n",
        "    print('Sell')\n",
        "else:\n",
        "    print('Hold')\n",
        "print(Prediction[0])\n"
      ],
      "metadata": {
        "colab": {
          "base_uri": "https://localhost:8080/"
        },
        "id": "FnwxUCNJQmhq",
        "outputId": "cbdd3247-ad83-4ccd-cf2d-ce08d3fe2afc"
      },
      "execution_count": 20,
      "outputs": [
        {
          "output_type": "stream",
          "name": "stdout",
          "text": [
            "\u001b[1m41/41\u001b[0m \u001b[32m━━━━━━━━━━━━━━━━━━━━\u001b[0m\u001b[37m\u001b[0m \u001b[1m0s\u001b[0m 5ms/step\n",
            "Sell\n",
            "[2]\n"
          ]
        }
      ]
    },
    {
      "cell_type": "code",
      "source": [
        "split_percentage = 0.7\n",
        "split = int(split_percentage*len(df))\n",
        "temp=pd.DataFrame()\n",
        "temp['close'] = df.close.iloc[split:]\n",
        "temp['signal']=np.array(y_pred)\n",
        "print(temp.tail())"
      ],
      "metadata": {
        "colab": {
          "base_uri": "https://localhost:8080/"
        },
        "id": "9IIAq_T_QoOp",
        "outputId": "2f8e4a8c-1a7b-490e-e264-525b1b36da77"
      },
      "execution_count": 21,
      "outputs": [
        {
          "output_type": "stream",
          "name": "stdout",
          "text": [
            "                 close  signal\n",
            "time                          \n",
            "2024-10-25  231.410004       1\n",
            "2024-10-28  233.399994       1\n",
            "2024-10-29  233.669998       2\n",
            "2024-10-30  230.100006       2\n",
            "2024-10-31  225.910004       2\n"
          ]
        }
      ]
    },
    {
      "cell_type": "code",
      "source": [
        "# Variable Required for decision making\n",
        "buy=[]\n",
        "sell=[]\n",
        "profit=[]\n",
        "Close_profit=[]\n",
        "Stop_loss=[]\n",
        "Close_order_buy=[]\n",
        "Close_order_sell=[]\n",
        "position_Buy=None\n",
        "position_Sell=None\n",
        "profit=0.4\n",
        "lose=0.4"
      ],
      "metadata": {
        "id": "AU8DhumERNye"
      },
      "execution_count": 22,
      "outputs": []
    },
    {
      "cell_type": "code",
      "source": [
        "for i in range(len(temp)):\n",
        "   #####################################################################################################\n",
        "    if position_Buy!=\"Buy\"  and position_Sell!=\"Sell\" and Accuracy >0.50 and temp['signal'][i]== 1 :                          #Buy Position\n",
        "                    buy.append(temp['close'][i])\n",
        "                    sell.append(np.nan)\n",
        "                    Close_profit.append(np.nan)\n",
        "                    Stop_loss.append(np.nan)\n",
        "                    Close_order_buy.append(temp['close'][i])\n",
        "                    position_Buy=\"Buy\"\n",
        "    #############################################################################################\n",
        "    elif  position_Sell!=\"Sell\"  and position_Buy!=\"Buy\" and Accuracy >0.50 and temp['signal'][i]== 2   :                     #Sell Position\n",
        "                sell.append(temp['close'][i])\n",
        "                buy.append(np.nan)\n",
        "                Close_profit.append(np.nan)\n",
        "                Stop_loss.append(np.nan)\n",
        "                Close_order_sell.append(temp['close'][i])\n",
        "                position_Sell=\"Sell\"\n",
        "\n",
        "    #################################################################################################\n",
        "    elif position_Sell==\"Sell\" :                                               #Closing Order  After  Buying a trade(Profit)\n",
        "        if ((Close_order_sell[-1]+lose) <= temp['close'][i]):                   #Take Profit Condition\n",
        "            Close_profit.append(np.nan)                                        #append to take profit\n",
        "            Stop_loss.append(temp['close'][i])\n",
        "            buy.append(np.nan)\n",
        "            sell.append(np.nan)\n",
        "            position_Sell=None\n",
        "        elif ((Close_order_sell[-1]-(profit)) >= temp['close'][i]):                   #Stop Loss Condition\n",
        "            Close_profit.append(temp['close'][i])\n",
        "            Stop_loss.append(np.nan)                                                #Appending to stop loss\n",
        "            buy.append(np.nan)\n",
        "            sell.append(np.nan)\n",
        "            position_Sell=None\n",
        "        else:\n",
        "            Close_profit.append(np.nan)\n",
        "            Stop_loss.append(np.nan)\n",
        "            buy.append(np.nan)\n",
        "            sell.append(np.nan)\n",
        "    ########################################################################################################\n",
        "    elif position_Buy==\"Buy\" :                                               #Closing Order  After  Buying a trade(Profit)\n",
        "        if ((Close_order_buy[-1]+profit) <= temp['close'][i]):                  #Take Profit Condition\n",
        "            Close_profit.append(temp['close'][i])                          #append to take profit\n",
        "            Stop_loss.append(np.nan)\n",
        "            buy.append(np.nan)\n",
        "            sell.append(np.nan)\n",
        "            position_Buy=None\n",
        "\n",
        "        elif ((Close_order_buy[-1]-lose) >= temp['close'][i]):                   #Stop Loss Condition\n",
        "            Close_profit.append(np.nan)\n",
        "            Stop_loss.append(temp['close'][i])                                  #Appending to stop loss\n",
        "            buy.append(np.nan)\n",
        "            sell.append(np.nan)\n",
        "            position_Buy=None\n",
        "\n",
        "        else:\n",
        "            Close_profit.append(np.nan)\n",
        "            Stop_loss.append(np.nan)\n",
        "            buy.append(np.nan)\n",
        "            sell.append(np.nan)\n",
        "#################################################################\n",
        "    else:\n",
        "            buy.append(np.nan)\n",
        "            sell.append(np.nan)\n",
        "            Stop_loss.append(np.nan)\n",
        "            Close_profit.append(np.nan)\n",
        "temp['buy']=buy\n",
        "temp['sell']=sell\n",
        "temp['Close_profit']=Close_profit\n",
        "temp['Stop_loss']=Stop_loss\n",
        "print((temp[temp['buy']!=np.nan]).count())\n",
        "print(f\"Profitibily { temp['Close_profit'].count()/(temp['Close_profit'].count()+temp['Stop_loss'].count())}\")"
      ],
      "metadata": {
        "colab": {
          "base_uri": "https://localhost:8080/"
        },
        "id": "G7xBbEn5RNk0",
        "outputId": "5f394fd3-7f71-49fc-81ff-d762876c2f3b"
      },
      "execution_count": 25,
      "outputs": [
        {
          "output_type": "stream",
          "name": "stdout",
          "text": [
            "close           1283\n",
            "signal          1283\n",
            "buy              292\n",
            "sell             292\n",
            "Close_profit     461\n",
            "Stop_loss        122\n",
            "dtype: int64\n",
            "Profitibily 0.79073756432247\n"
          ]
        },
        {
          "output_type": "stream",
          "name": "stderr",
          "text": [
            "<ipython-input-25-708f1d65bd04>:3: FutureWarning: Series.__getitem__ treating keys as positions is deprecated. In a future version, integer keys will always be treated as labels (consistent with DataFrame behavior). To access a value by position, use `ser.iloc[pos]`\n",
            "  if position_Buy!=\"Buy\"  and position_Sell!=\"Sell\" and Accuracy >0.50 and temp['signal'][i]== 1 :                          #Buy Position\n",
            "<ipython-input-25-708f1d65bd04>:4: FutureWarning: Series.__getitem__ treating keys as positions is deprecated. In a future version, integer keys will always be treated as labels (consistent with DataFrame behavior). To access a value by position, use `ser.iloc[pos]`\n",
            "  buy.append(temp['close'][i])\n",
            "<ipython-input-25-708f1d65bd04>:8: FutureWarning: Series.__getitem__ treating keys as positions is deprecated. In a future version, integer keys will always be treated as labels (consistent with DataFrame behavior). To access a value by position, use `ser.iloc[pos]`\n",
            "  Close_order_buy.append(temp['close'][i])\n",
            "<ipython-input-25-708f1d65bd04>:40: FutureWarning: Series.__getitem__ treating keys as positions is deprecated. In a future version, integer keys will always be treated as labels (consistent with DataFrame behavior). To access a value by position, use `ser.iloc[pos]`\n",
            "  if ((Close_order_buy[-1]+profit) <= temp['close'][i]):                  #Take Profit Condition\n",
            "<ipython-input-25-708f1d65bd04>:41: FutureWarning: Series.__getitem__ treating keys as positions is deprecated. In a future version, integer keys will always be treated as labels (consistent with DataFrame behavior). To access a value by position, use `ser.iloc[pos]`\n",
            "  Close_profit.append(temp['close'][i])                          #append to take profit\n",
            "<ipython-input-25-708f1d65bd04>:11: FutureWarning: Series.__getitem__ treating keys as positions is deprecated. In a future version, integer keys will always be treated as labels (consistent with DataFrame behavior). To access a value by position, use `ser.iloc[pos]`\n",
            "  elif  position_Sell!=\"Sell\"  and position_Buy!=\"Buy\" and Accuracy >0.50 and temp['signal'][i]== 2   :                     #Sell Position\n",
            "<ipython-input-25-708f1d65bd04>:12: FutureWarning: Series.__getitem__ treating keys as positions is deprecated. In a future version, integer keys will always be treated as labels (consistent with DataFrame behavior). To access a value by position, use `ser.iloc[pos]`\n",
            "  sell.append(temp['close'][i])\n",
            "<ipython-input-25-708f1d65bd04>:16: FutureWarning: Series.__getitem__ treating keys as positions is deprecated. In a future version, integer keys will always be treated as labels (consistent with DataFrame behavior). To access a value by position, use `ser.iloc[pos]`\n",
            "  Close_order_sell.append(temp['close'][i])\n",
            "<ipython-input-25-708f1d65bd04>:21: FutureWarning: Series.__getitem__ treating keys as positions is deprecated. In a future version, integer keys will always be treated as labels (consistent with DataFrame behavior). To access a value by position, use `ser.iloc[pos]`\n",
            "  if ((Close_order_sell[-1]+lose) <= temp['close'][i]):                   #Take Profit Condition\n",
            "<ipython-input-25-708f1d65bd04>:27: FutureWarning: Series.__getitem__ treating keys as positions is deprecated. In a future version, integer keys will always be treated as labels (consistent with DataFrame behavior). To access a value by position, use `ser.iloc[pos]`\n",
            "  elif ((Close_order_sell[-1]-(profit)) >= temp['close'][i]):                   #Stop Loss Condition\n",
            "<ipython-input-25-708f1d65bd04>:28: FutureWarning: Series.__getitem__ treating keys as positions is deprecated. In a future version, integer keys will always be treated as labels (consistent with DataFrame behavior). To access a value by position, use `ser.iloc[pos]`\n",
            "  Close_profit.append(temp['close'][i])\n",
            "<ipython-input-25-708f1d65bd04>:47: FutureWarning: Series.__getitem__ treating keys as positions is deprecated. In a future version, integer keys will always be treated as labels (consistent with DataFrame behavior). To access a value by position, use `ser.iloc[pos]`\n",
            "  elif ((Close_order_buy[-1]-lose) >= temp['close'][i]):                   #Stop Loss Condition\n",
            "<ipython-input-25-708f1d65bd04>:49: FutureWarning: Series.__getitem__ treating keys as positions is deprecated. In a future version, integer keys will always be treated as labels (consistent with DataFrame behavior). To access a value by position, use `ser.iloc[pos]`\n",
            "  Stop_loss.append(temp['close'][i])                                  #Appending to stop loss\n",
            "<ipython-input-25-708f1d65bd04>:23: FutureWarning: Series.__getitem__ treating keys as positions is deprecated. In a future version, integer keys will always be treated as labels (consistent with DataFrame behavior). To access a value by position, use `ser.iloc[pos]`\n",
            "  Stop_loss.append(temp['close'][i])\n"
          ]
        }
      ]
    }
  ]
}