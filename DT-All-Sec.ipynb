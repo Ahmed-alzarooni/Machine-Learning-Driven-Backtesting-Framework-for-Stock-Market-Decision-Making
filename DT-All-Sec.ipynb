{
  "cells": [
    {
      "cell_type": "markdown",
      "source": [
        "#Importing Data\n"
      ],
      "metadata": {
        "id": "1woIx6JK8b1k"
      }
    },
    {
      "cell_type": "code",
      "source": [
        "from google.colab import drive\n",
        "drive.mount('/content/drive')"
      ],
      "metadata": {
        "colab": {
          "base_uri": "https://localhost:8080/"
        },
        "id": "TmzTAxk88a1H",
        "outputId": "a19f4881-4e6b-4405-864d-0a164ee4be58"
      },
      "execution_count": 100,
      "outputs": [
        {
          "output_type": "stream",
          "name": "stdout",
          "text": [
            "Drive already mounted at /content/drive; to attempt to forcibly remount, call drive.mount(\"/content/drive\", force_remount=True).\n"
          ]
        }
      ]
    },
    {
      "cell_type": "markdown",
      "metadata": {
        "id": "Ly8FTDbr4X_A"
      },
      "source": [
        "# Importing Libraries"
      ]
    },
    {
      "cell_type": "code",
      "execution_count": 101,
      "metadata": {
        "id": "4FXSmjC_4X_B"
      },
      "outputs": [],
      "source": [
        "import plotly.offline as pox\n",
        "import plotly.graph_objs as go\n",
        "import numpy as np\n",
        "import matplotlib.pyplot as plt\n",
        "import pandas as pd\n",
        "import numpy as np\n",
        "from sklearn.model_selection import train_test_split\n",
        "from sklearn.metrics import accuracy_score,classification_report\n",
        "from sklearn.preprocessing import StandardScaler\n",
        "from sklearn.tree import DecisionTreeClassifier\n",
        "import seaborn as sns\n",
        "from matplotlib.pyplot import figure\n",
        "from statsmodels.tsa.stattools import adfuller\n",
        "from sklearn.svm import SVC\n",
        "from sklearn.neighbors import KNeighborsClassifier\n",
        "from sklearn.linear_model import LogisticRegression\n",
        "from sklearn.ensemble import AdaBoostClassifier\n",
        "from sklearn.model_selection import train_test_split\n",
        "from sklearn.preprocessing import StandardScaler\n",
        "from sklearn.metrics import accuracy_score\n",
        "from xgboost import XGBClassifier\n",
        "from sklearn.ensemble import RandomForestClassifier, VotingClassifier\n",
        "from sklearn.ensemble import StackingClassifier\n"
      ]
    },
    {
      "cell_type": "markdown",
      "metadata": {
        "id": "7Wk01Kr64X_B"
      },
      "source": [
        "# Importing Stock Data"
      ]
    },
    {
      "cell_type": "code",
      "execution_count": 102,
      "metadata": {
        "colab": {
          "base_uri": "https://localhost:8080/"
        },
        "id": "XvcglyDA4X_B",
        "outputId": "5be06e4b-4701-4a99-feef-e78a43531eaa"
      },
      "outputs": [
        {
          "output_type": "stream",
          "name": "stdout",
          "text": [
            "                  open        high         low       close    volume\n",
            "time                                                                \n",
            "2024-10-08  224.300003  225.979996  223.250000  225.770004  31855700\n",
            "2024-10-09  225.229996  229.750000  224.830002  229.539993  33591100\n",
            "2024-10-10  227.779999  229.500000  227.169998  229.039993  28183500\n",
            "2024-10-11  229.300003  229.410004  227.339996  227.550003  31759200\n",
            "2024-10-14  228.699997  231.729996  228.600006  231.300003  39882100\n",
            "AAPL ***DONE***\n"
          ]
        }
      ],
      "source": [
        "Path = 'drive/MyDrive/data/'\n",
        "AAPL = Path + 'aapl_data.csv'\n",
        "ABT = Path + 'abt_data.csv'\n",
        "AMZN = Path + 'amzn_data.csv'\n",
        "AXP = Path + 'axp_data.csv'\n",
        "MMM = Path + 'mmm_data.csv'\n",
        "company_dict = {AAPL: 'AAPL', ABT: 'ABT', AMZN: 'AMZN', AXP: 'AXP', MMM: 'MMM'}\n",
        "\n",
        "\n",
        "target_company = AAPL\n",
        "\n",
        "df=pd.read_csv(target_company)\n",
        "# Filter and remove rows where 'volume' is 0\n",
        "d = df[df['volume'] == 0]\n",
        "df = df.drop(d.index, axis=0)\n",
        "\n",
        "# Convert 'time' to datetime format and extract only the date part\n",
        "df['time'] = pd.to_datetime(df['time'], errors='coerce').dt.date\n",
        "\n",
        "# Set the 'time' column as the index\n",
        "df = df.set_index('time')\n",
        "\n",
        "# Sort the DataFrame by date\n",
        "df = df.sort_index(ascending=True)\n",
        "\n",
        "# Drop the last 16 rows\n",
        "df.drop(df.tail(16).index, inplace=True)\n",
        "\n",
        "# Create a copy of the modified DataFrame\n",
        "next = df.copy()\n",
        "\n",
        "# Display the tail of the new DataFrame and print \"done\"\n",
        "print(next.tail())\n",
        "print(company_dict[target_company] + \" ***DONE***\" )"
      ]
    },
    {
      "cell_type": "markdown",
      "metadata": {
        "id": "OE03RdDW4X_B"
      },
      "source": [
        "# Feature Engineering"
      ]
    },
    {
      "cell_type": "code",
      "execution_count": 103,
      "metadata": {
        "id": "WK6jLTnA4X_C"
      },
      "outputs": [],
      "source": [
        "# Calculate future returns and signals\n",
        "df['future_returns'] = df['close'].pct_change().shift(-1)\n",
        "signal = []\n",
        "for i in range(len(df)):\n",
        "    if df['future_returns'].iloc[i] > 0:\n",
        "        signal.append(1)\n",
        "    elif df['future_returns'].iloc[i] < 0:\n",
        "        signal.append(2)\n",
        "    else:\n",
        "        signal.append(3)\n",
        "\n",
        "df['signal'] = signal\n",
        "\n",
        "# Calculate RSI\n",
        "def calculate_rsi(data, window=14):\n",
        "    delta = data.diff()\n",
        "    gain = (delta.where(delta > 0, 0)).rolling(window=window).mean()\n",
        "    loss = (-delta.where(delta < 0, 0)).rolling(window=window).mean()\n",
        "    rs = gain / loss\n",
        "    rsi = 100 - (100 / (1 + rs))\n",
        "    return rsi\n",
        "\n",
        "df['rsi'] = calculate_rsi(df['close'], 14)\n",
        "\n",
        "# Calculate ADX\n",
        "def calculate_adx(df, period=50):\n",
        "    high = df['high']\n",
        "    low = df['low']\n",
        "    close = df['close']\n",
        "\n",
        "    plus_dm = high.diff()\n",
        "    minus_dm = low.diff()\n",
        "\n",
        "    plus_dm[plus_dm < 0] = 0\n",
        "    minus_dm[minus_dm > 0] = 0\n",
        "\n",
        "    tr1 = pd.DataFrame(high - low)\n",
        "    tr2 = pd.DataFrame(abs(high - close.shift(1)))\n",
        "    tr3 = pd.DataFrame(abs(low - close.shift(1)))\n",
        "    true_range = pd.concat([tr1, tr2, tr3], axis=1).max(axis=1)\n",
        "\n",
        "    atr = true_range.rolling(window=period).mean()\n",
        "\n",
        "    plus_di = 100 * (plus_dm.rolling(window=period).mean() / atr)\n",
        "    minus_di = 100 * (minus_dm.abs().rolling(window=period).mean() / atr)\n",
        "\n",
        "    dx = (abs(plus_di - minus_di) / (plus_di + minus_di)) * 100\n",
        "    adx = dx.rolling(window=period).mean()\n",
        "    return adx\n",
        "\n",
        "df['adx'] = calculate_adx(df, 50)\n",
        "\n",
        "# Calculate NATR\n",
        "def calculate_natr(df, period=50):\n",
        "    tr1 = df['high'] - df['low']\n",
        "    tr2 = abs(df['high'] - df['close'].shift(1))\n",
        "    tr3 = abs(df['low'] - df['close'].shift(1))\n",
        "    true_range = pd.concat([tr1, tr2, tr3], axis=1).max(axis=1)\n",
        "    atr = true_range.rolling(window=period).mean()\n",
        "    natr = (atr / df['close']) * 100\n",
        "    return natr\n",
        "\n",
        "df['NATR'] = calculate_natr(df, 50)\n",
        "\n",
        "# Calculate SMA\n",
        "df['sma'] = df['close'].rolling(window=30).mean()\n",
        "\n",
        "# Calculate correlation\n",
        "df['corr'] = df['close'].rolling(window=int(6.5 * 4)).corr(df['sma'])\n",
        "\n",
        "# Other features\n",
        "df['Open-Close'] = (df['open'] - df['close']).shift(-1)\n",
        "df['Close-High'] = (df['close'] - df['high']).shift(-1)\n",
        "df['Close-Low'] = (df['close'] - df['low']).shift(-1)\n",
        "\n",
        "# Drop NaN values\n",
        "df.dropna(inplace=True)\n",
        "\n",
        "# Define target and features\n",
        "y = df[['signal']].copy()\n",
        "X = df[['rsi', 'adx', 'corr', 'volume', 'Open-Close', 'Close-Low']].copy()"
      ]
    },
    {
      "cell_type": "markdown",
      "metadata": {
        "id": "3LFsExII4X_C"
      },
      "source": [
        "# Correlation Check"
      ]
    },
    {
      "cell_type": "code",
      "execution_count": 104,
      "metadata": {
        "colab": {
          "base_uri": "https://localhost:8080/",
          "height": 489
        },
        "id": "Xwu4KQvQ4X_C",
        "outputId": "65807f5d-4f76-4b88-faf6-02d6b6580e96"
      },
      "outputs": [
        {
          "output_type": "display_data",
          "data": {
            "text/plain": [
              "<Figure size 640x480 with 2 Axes>"
            ],
            "image/png": "[encoded data removed]"
          },
          "metadata": {}
        }
      ],
      "source": [
        "z=df[['signal', 'rsi','adx', 'corr','volume','Open-Close','Close-Low']].copy()\n",
        "corr = z.corr()\n",
        "figure(figsize=(8, 6), dpi=80)\n",
        "sns.heatmap(corr, annot=True, annot_kws = {\"size\": 6})\n",
        "plt.yticks(rotation=0, size = 14);\n",
        "plt.xticks(rotation=90, size = 14)  # fix ticklabel directions and size\n",
        "plt.tight_layout()  # fits plot area to the plot, \"tightly\"\n",
        "plt.show()  # show the plot"
      ]
    },
    {
      "cell_type": "code",
      "execution_count": 105,
      "metadata": {
        "colab": {
          "base_uri": "https://localhost:8080/"
        },
        "id": "9oViitv64X_C",
        "outputId": "5c7dc3fb-10d6-4253-c34f-a4c6e68a706a"
      },
      "outputs": [
        {
          "output_type": "stream",
          "name": "stdout",
          "text": [
            "MultiIndex([], )\n"
          ]
        }
      ],
      "source": [
        "def get_pair_above_threshold(X, threshold):\n",
        "    \"\"\"Function to return the pairs with correlation above threshold.\n",
        "    \"\"\"\n",
        "    # Calculate the correlation matrix\n",
        "    correl = X.corr()\n",
        "\n",
        "    # Unstack the matrix\n",
        "    correl = correl.abs().unstack()\n",
        "\n",
        "    # Recurring & redundant pair\n",
        "    pairs_to_drop = set()\n",
        "    cols = X.corr().columns\n",
        "\n",
        "    for i in range(0, X.corr().shape[1]):\n",
        "        for j in range(0, i+1):\n",
        "            pairs_to_drop.add((cols[i], cols[j]))\n",
        "\n",
        "    # Drop the recurring & redundant pair\n",
        "    correl = correl.drop(labels=pairs_to_drop).sort_values(ascending=False)\n",
        "\n",
        "    return correl[correl > threshold].index\n",
        "\n",
        "print(get_pair_above_threshold(X, 0.7))"
      ]
    },
    {
      "cell_type": "markdown",
      "metadata": {
        "id": "ucKUw4a94X_C"
      },
      "source": [
        "# Stationary Check"
      ]
    },
    {
      "cell_type": "code",
      "execution_count": 106,
      "metadata": {
        "colab": {
          "base_uri": "https://localhost:8080/"
        },
        "id": "dfPK9EXb4X_C",
        "outputId": "b0e91fae-b242-4719-febd-fd48de2ffe07"
      },
      "outputs": [
        {
          "output_type": "stream",
          "name": "stdout",
          "text": [
            "rsi is stationary.\n",
            "adx is stationary.\n",
            "corr is stationary.\n",
            "volume is stationary.\n",
            "Open-Close is stationary.\n",
            "Close-Low is not stationary. Dropping it.\n"
          ]
        }
      ],
      "source": [
        "def stationary(series):\n",
        "    \"\"\"Function to check if the series is stationary or not.\n",
        "    \"\"\"\n",
        "    result = adfuller(series)\n",
        "    if(result[1] < 0.05):\n",
        "        return 'stationary'\n",
        "    else:\n",
        "        return 'not stationary'\n",
        "# Check for stationarity\n",
        "for col in X.columns:\n",
        "    if stationary(df[col]) == 'not stationary':\n",
        "        print('%s is not stationary. Dropping it.' % col)\n",
        "        X.drop(columns=[col], axis=1, inplace=True)\n",
        "    else:\n",
        "        print('%s is stationary.' % col)"
      ]
    },
    {
      "cell_type": "markdown",
      "metadata": {
        "id": "uiiAVPmL4X_C"
      },
      "source": [
        "# Splitting and Training Model"
      ]
    },
    {
      "cell_type": "code",
      "execution_count": 107,
      "metadata": {
        "colab": {
          "base_uri": "https://localhost:8080/"
        },
        "outputId": "bba7eb76-d851-4dff-d43b-c051c7300a80",
        "id": "5qjf31waRUE0"
      },
      "outputs": [
        {
          "output_type": "stream",
          "name": "stdout",
          "text": [
            "0.8002283105022832\n"
          ]
        }
      ],
      "source": [
        "split_percentage = 0.8\n",
        "split = int(split_percentage*len(df))\n",
        "\n",
        "# Train data set\n",
        "X_train = X[:split]\n",
        "y_train = y[:split]\n",
        "X_test =  X[split:]\n",
        "y_test =  y[split:]\n",
        "\n",
        "scaler=StandardScaler()\n",
        "X_train=scaler.fit_transform(X_train)\n",
        "X_test=scaler.fit_transform(X_test)\n",
        "\n",
        "# Initialize and train Decision Tree\n",
        "dt_model = DecisionTreeClassifier(criterion='gini', max_depth=5, random_state=42)\n",
        "dt_model.fit(X_train, y_train)\n",
        "\n",
        "# Predictions and evaluation\n",
        "y_pred = dt_model.predict(X_test)\n",
        "\n",
        "Accuracy =accuracy_score(y_test, y_pred)\n",
        "print(Accuracy)"
      ]
    },
    {
      "cell_type": "markdown",
      "metadata": {
        "id": "LVPsHHM-4X_C"
      },
      "source": [
        "# confusion Matrix"
      ]
    },
    {
      "cell_type": "code",
      "execution_count": 108,
      "metadata": {
        "colab": {
          "base_uri": "https://localhost:8080/"
        },
        "id": "R_F1HH0Q4X_C",
        "outputId": "9ecb3f5b-813c-4fdc-9349-a79645316989"
      },
      "outputs": [
        {
          "output_type": "stream",
          "name": "stdout",
          "text": [
            "              precision    recall  f1-score   support\n",
            "\n",
            "           1       0.84      0.78      0.81       462\n",
            "           2       0.77      0.83      0.80       412\n",
            "           3       0.00      0.00      0.00         2\n",
            "\n",
            "    accuracy                           0.80       876\n",
            "   macro avg       0.53      0.54      0.53       876\n",
            "weighted avg       0.80      0.80      0.80       876\n",
            "\n"
          ]
        },
        {
          "output_type": "stream",
          "name": "stderr",
          "text": [
            "/usr/local/lib/python3.10/dist-packages/sklearn/metrics/_classification.py:1531: UndefinedMetricWarning:\n",
            "\n",
            "Precision is ill-defined and being set to 0.0 in labels with no predicted samples. Use `zero_division` parameter to control this behavior.\n",
            "\n",
            "/usr/local/lib/python3.10/dist-packages/sklearn/metrics/_classification.py:1531: UndefinedMetricWarning:\n",
            "\n",
            "Precision is ill-defined and being set to 0.0 in labels with no predicted samples. Use `zero_division` parameter to control this behavior.\n",
            "\n",
            "/usr/local/lib/python3.10/dist-packages/sklearn/metrics/_classification.py:1531: UndefinedMetricWarning:\n",
            "\n",
            "Precision is ill-defined and being set to 0.0 in labels with no predicted samples. Use `zero_division` parameter to control this behavior.\n",
            "\n"
          ]
        }
      ],
      "source": [
        "# Classification report\n",
        "classification_report_data = classification_report(y_test, y_pred)\n",
        "# Print the classification report\n",
        "print(classification_report_data)"
      ]
    },
    {
      "cell_type": "markdown",
      "metadata": {
        "id": "_41YYpk64X_C"
      },
      "source": [
        "# Making Latest Prediciton"
      ]
    },
    {
      "cell_type": "code",
      "execution_count": 109,
      "metadata": {
        "colab": {
          "base_uri": "https://localhost:8080/"
        },
        "id": "vngKgprk4X_C",
        "outputId": "625c3333-a3ac-4db6-dd1f-5cee85def961"
      },
      "outputs": [
        {
          "output_type": "stream",
          "name": "stdout",
          "text": [
            "\u001b[1m137/137\u001b[0m \u001b[32m━━━━━━━━━━━━━━━━━━━━\u001b[0m\u001b[37m\u001b[0m \u001b[1m0s\u001b[0m 1ms/step\n",
            "Buy\n",
            "[1.]\n"
          ]
        }
      ],
      "source": [
        "Prediction=model.predict(X)[-1]\n",
        "if Prediction==1:\n",
        "    print('Buy')\n",
        "elif Prediction==2:\n",
        "    print('Sell')\n",
        "else:\n",
        "    print('Hold')\n",
        "print(Prediction)"
      ]
    },
    {
      "cell_type": "code",
      "execution_count": 110,
      "metadata": {
        "colab": {
          "base_uri": "https://localhost:8080/"
        },
        "id": "N0tkmKm_4X_C",
        "outputId": "9581362e-6546-4e35-b35e-e77a09dd54d9"
      },
      "outputs": [
        {
          "output_type": "stream",
          "name": "stdout",
          "text": [
            "                 close  signal\n",
            "time                          \n",
            "2024-10-07  221.690002       2\n",
            "2024-10-08  225.770004       2\n",
            "2024-10-09  229.539993       1\n",
            "2024-10-10  229.039993       2\n",
            "2024-10-11  227.550003       2\n"
          ]
        }
      ],
      "source": [
        "split_percentage = 0.8\n",
        "split = int(split_percentage*len(df))\n",
        "temp=pd.DataFrame()\n",
        "temp['close'] = df.close.iloc[split:]\n",
        "temp['signal']=np.array(y_pred)\n",
        "print(temp.tail())"
      ]
    },
    {
      "cell_type": "code",
      "execution_count": 111,
      "metadata": {
        "id": "0ugOsLgV4X_D"
      },
      "outputs": [],
      "source": [
        "# Variable Required for decision making\n",
        "buy=[]\n",
        "sell=[]\n",
        "profit=[]\n",
        "Close_profit=[]\n",
        "Stop_loss=[]\n",
        "Close_order_buy=[]\n",
        "Close_order_sell=[]\n",
        "position_Buy=None\n",
        "position_Sell=None\n",
        "profit=0.4\n",
        "lose=0.4\n"
      ]
    },
    {
      "cell_type": "markdown",
      "metadata": {
        "id": "35AxLoPw4X_D"
      },
      "source": [
        "# Decision Making Process"
      ]
    },
    {
      "cell_type": "code",
      "execution_count": 112,
      "metadata": {
        "colab": {
          "base_uri": "https://localhost:8080/"
        },
        "id": "GoaHrqe44X_D",
        "outputId": "fdc9ca8c-0170-4d18-d41e-824ad7ec3f82"
      },
      "outputs": [
        {
          "output_type": "stream",
          "name": "stdout",
          "text": [
            "close           876\n",
            "signal          876\n",
            "buy             200\n",
            "sell            205\n",
            "Close_profit    328\n",
            "Stop_loss        76\n",
            "dtype: int64\n",
            "Profitibily 0.8118811881188119\n"
          ]
        },
        {
          "output_type": "stream",
          "name": "stderr",
          "text": [
            "<ipython-input-112-708f1d65bd04>:3: FutureWarning:\n",
            "\n",
            "Series.__getitem__ treating keys as positions is deprecated. In a future version, integer keys will always be treated as labels (consistent with DataFrame behavior). To access a value by position, use `ser.iloc[pos]`\n",
            "\n",
            "<ipython-input-112-708f1d65bd04>:11: FutureWarning:\n",
            "\n",
            "Series.__getitem__ treating keys as positions is deprecated. In a future version, integer keys will always be treated as labels (consistent with DataFrame behavior). To access a value by position, use `ser.iloc[pos]`\n",
            "\n",
            "<ipython-input-112-708f1d65bd04>:12: FutureWarning:\n",
            "\n",
            "Series.__getitem__ treating keys as positions is deprecated. In a future version, integer keys will always be treated as labels (consistent with DataFrame behavior). To access a value by position, use `ser.iloc[pos]`\n",
            "\n",
            "<ipython-input-112-708f1d65bd04>:16: FutureWarning:\n",
            "\n",
            "Series.__getitem__ treating keys as positions is deprecated. In a future version, integer keys will always be treated as labels (consistent with DataFrame behavior). To access a value by position, use `ser.iloc[pos]`\n",
            "\n",
            "<ipython-input-112-708f1d65bd04>:21: FutureWarning:\n",
            "\n",
            "Series.__getitem__ treating keys as positions is deprecated. In a future version, integer keys will always be treated as labels (consistent with DataFrame behavior). To access a value by position, use `ser.iloc[pos]`\n",
            "\n",
            "<ipython-input-112-708f1d65bd04>:27: FutureWarning:\n",
            "\n",
            "Series.__getitem__ treating keys as positions is deprecated. In a future version, integer keys will always be treated as labels (consistent with DataFrame behavior). To access a value by position, use `ser.iloc[pos]`\n",
            "\n",
            "<ipython-input-112-708f1d65bd04>:28: FutureWarning:\n",
            "\n",
            "Series.__getitem__ treating keys as positions is deprecated. In a future version, integer keys will always be treated as labels (consistent with DataFrame behavior). To access a value by position, use `ser.iloc[pos]`\n",
            "\n",
            "<ipython-input-112-708f1d65bd04>:4: FutureWarning:\n",
            "\n",
            "Series.__getitem__ treating keys as positions is deprecated. In a future version, integer keys will always be treated as labels (consistent with DataFrame behavior). To access a value by position, use `ser.iloc[pos]`\n",
            "\n",
            "<ipython-input-112-708f1d65bd04>:8: FutureWarning:\n",
            "\n",
            "Series.__getitem__ treating keys as positions is deprecated. In a future version, integer keys will always be treated as labels (consistent with DataFrame behavior). To access a value by position, use `ser.iloc[pos]`\n",
            "\n",
            "<ipython-input-112-708f1d65bd04>:40: FutureWarning:\n",
            "\n",
            "Series.__getitem__ treating keys as positions is deprecated. In a future version, integer keys will always be treated as labels (consistent with DataFrame behavior). To access a value by position, use `ser.iloc[pos]`\n",
            "\n",
            "<ipython-input-112-708f1d65bd04>:41: FutureWarning:\n",
            "\n",
            "Series.__getitem__ treating keys as positions is deprecated. In a future version, integer keys will always be treated as labels (consistent with DataFrame behavior). To access a value by position, use `ser.iloc[pos]`\n",
            "\n",
            "<ipython-input-112-708f1d65bd04>:23: FutureWarning:\n",
            "\n",
            "Series.__getitem__ treating keys as positions is deprecated. In a future version, integer keys will always be treated as labels (consistent with DataFrame behavior). To access a value by position, use `ser.iloc[pos]`\n",
            "\n",
            "<ipython-input-112-708f1d65bd04>:47: FutureWarning:\n",
            "\n",
            "Series.__getitem__ treating keys as positions is deprecated. In a future version, integer keys will always be treated as labels (consistent with DataFrame behavior). To access a value by position, use `ser.iloc[pos]`\n",
            "\n",
            "<ipython-input-112-708f1d65bd04>:49: FutureWarning:\n",
            "\n",
            "Series.__getitem__ treating keys as positions is deprecated. In a future version, integer keys will always be treated as labels (consistent with DataFrame behavior). To access a value by position, use `ser.iloc[pos]`\n",
            "\n"
          ]
        }
      ],
      "source": [
        "for i in range(len(temp)):\n",
        "   #####################################################################################################\n",
        "    if position_Buy!=\"Buy\"  and position_Sell!=\"Sell\" and Accuracy >0.50 and temp['signal'][i]== 1 :                          #Buy Position\n",
        "                    buy.append(temp['close'][i])\n",
        "                    sell.append(np.nan)\n",
        "                    Close_profit.append(np.nan)\n",
        "                    Stop_loss.append(np.nan)\n",
        "                    Close_order_buy.append(temp['close'][i])\n",
        "                    position_Buy=\"Buy\"\n",
        "    #############################################################################################\n",
        "    elif  position_Sell!=\"Sell\"  and position_Buy!=\"Buy\" and Accuracy >0.50 and temp['signal'][i]== 2   :                     #Sell Position\n",
        "                sell.append(temp['close'][i])\n",
        "                buy.append(np.nan)\n",
        "                Close_profit.append(np.nan)\n",
        "                Stop_loss.append(np.nan)\n",
        "                Close_order_sell.append(temp['close'][i])\n",
        "                position_Sell=\"Sell\"\n",
        "\n",
        "    #################################################################################################\n",
        "    elif position_Sell==\"Sell\" :                                               #Closing Order  After  Buying a trade(Profit)\n",
        "        if ((Close_order_sell[-1]+lose) <= temp['close'][i]):                   #Take Profit Condition\n",
        "            Close_profit.append(np.nan)                                        #append to take profit\n",
        "            Stop_loss.append(temp['close'][i])\n",
        "            buy.append(np.nan)\n",
        "            sell.append(np.nan)\n",
        "            position_Sell=None\n",
        "        elif ((Close_order_sell[-1]-(profit)) >= temp['close'][i]):                   #Stop Loss Condition\n",
        "            Close_profit.append(temp['close'][i])\n",
        "            Stop_loss.append(np.nan)                                                #Appending to stop loss\n",
        "            buy.append(np.nan)\n",
        "            sell.append(np.nan)\n",
        "            position_Sell=None\n",
        "        else:\n",
        "            Close_profit.append(np.nan)\n",
        "            Stop_loss.append(np.nan)\n",
        "            buy.append(np.nan)\n",
        "            sell.append(np.nan)\n",
        "    ########################################################################################################\n",
        "    elif position_Buy==\"Buy\" :                                               #Closing Order  After  Buying a trade(Profit)\n",
        "        if ((Close_order_buy[-1]+profit) <= temp['close'][i]):                  #Take Profit Condition\n",
        "            Close_profit.append(temp['close'][i])                          #append to take profit\n",
        "            Stop_loss.append(np.nan)\n",
        "            buy.append(np.nan)\n",
        "            sell.append(np.nan)\n",
        "            position_Buy=None\n",
        "\n",
        "        elif ((Close_order_buy[-1]-lose) >= temp['close'][i]):                   #Stop Loss Condition\n",
        "            Close_profit.append(np.nan)\n",
        "            Stop_loss.append(temp['close'][i])                                  #Appending to stop loss\n",
        "            buy.append(np.nan)\n",
        "            sell.append(np.nan)\n",
        "            position_Buy=None\n",
        "\n",
        "        else:\n",
        "            Close_profit.append(np.nan)\n",
        "            Stop_loss.append(np.nan)\n",
        "            buy.append(np.nan)\n",
        "            sell.append(np.nan)\n",
        "#################################################################\n",
        "    else:\n",
        "            buy.append(np.nan)\n",
        "            sell.append(np.nan)\n",
        "            Stop_loss.append(np.nan)\n",
        "            Close_profit.append(np.nan)\n",
        "temp['buy']=buy\n",
        "temp['sell']=sell\n",
        "temp['Close_profit']=Close_profit\n",
        "temp['Stop_loss']=Stop_loss\n",
        "print((temp[temp['buy']!=np.nan]).count())\n",
        "print(f\"Profitibily { temp['Close_profit'].count()/(temp['Close_profit'].count()+temp['Stop_loss'].count())}\")\n"
      ]
    },
    {
      "cell_type": "markdown",
      "metadata": {
        "id": "skd3fo7T4X_D"
      },
      "source": [
        "# Plotting"
      ]
    },
    {
      "cell_type": "code",
      "execution_count": 113,
      "metadata": {
        "colab": {
          "base_uri": "https://localhost:8080/",
          "height": 35
        },
        "id": "ZYbprc3f4X_D",
        "outputId": "2adbff17-5ba4-4d26-b568-abade2a67a36"
      },
      "outputs": [
        {
          "output_type": "execute_result",
          "data": {
            "text/plain": [
              "'temp-plot.html'"
            ],
            "application/vnd.google.colaboratory.intrinsic+json": {
              "type": "string"
            }
          },
          "metadata": {},
          "execution_count": 113
        }
      ],
      "source": [
        "symb = company_dict[target_company] + \" RF + XGBC\"\n",
        "# trace1=go.Candlestick(\n",
        "# x=df.index,\n",
        "# low=df['low'],\n",
        "# close=df['close'],\n",
        "# open=df['open'],\n",
        "# high=df['high'],\n",
        "# increasing_line_color='green',\n",
        "# decreasing_line_color='red',\n",
        "# name='USD/EUR',\n",
        "# )\n",
        "trace1=go.Scatter(\n",
        "    y=temp.close,\n",
        "    mode='lines',\n",
        "    name='Close_price'\n",
        ")\n",
        "\n",
        "trace4=go.Scatter(\n",
        "\n",
        "    y=temp['buy'],\n",
        "    mode='markers',\n",
        "    marker=dict(size=13,color='#00FF00',symbol='triangle-up' ),\n",
        "    name='buy'\n",
        "    )\n",
        "trace5=go.Scatter(\n",
        "\n",
        "    y=temp.sell,\n",
        "    mode='markers',\n",
        "    marker=dict(size=13,color='#FF0000',symbol='triangle-down'),\n",
        "    name='sell')\n",
        "trace6=go.Scatter(\n",
        "\n",
        "    y=temp.Close_profit,\n",
        "    mode='markers',\n",
        "    marker=dict(size=13,color='#00FF00',symbol='cross'),\n",
        "    name='Profit')\n",
        "trace7=go.Scatter(\n",
        "\n",
        "    y=temp.Stop_loss,\n",
        "    mode='markers',\n",
        "    marker=dict(size=13,color='#FF0000',symbol='cross'),\n",
        "    name='Loss')\n",
        "\n",
        "data=[trace1,trace4,trace5,trace6,trace7]\n",
        "layout=go.Layout(\n",
        "    title=symb,\n",
        "    yaxis=dict(title='Assest value'),\n",
        "    xaxis=dict(title='Time And date'))\n",
        "figure=go.Figure(data=data,layout=layout)\n",
        "figure.update_layout(xaxis_rangeslider_visible=False)\n",
        "pox.plot(figure)\n"
      ]
    }
  ],
  "metadata": {
    "kernelspec": {
      "display_name": "Python 3",
      "language": "python",
      "name": "python3"
    },
    "language_info": {
      "codemirror_mode": {
        "name": "ipython",
        "version": 3
      },
      "file_extension": ".py",
      "mimetype": "text/x-python",
      "name": "python",
      "nbconvert_exporter": "python",
      "pygments_lexer": "ipython3",
      "version": "3.12.1"
    },
    "colab": {
      "provenance": []
    }
  },
  "nbformat": 4,
  "nbformat_minor": 0
}